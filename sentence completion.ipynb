{
 "cells": [
  {
   "cell_type": "code",
   "execution_count": 61,
   "id": "4292a3b4",
   "metadata": {},
   "outputs": [],
   "source": [
    "file = open(\"C:/Users/Alisha/Desktop/Files/sherlockh.txt\",\"r\",encoding='utf-8')"
   ]
  },
  {
   "cell_type": "code",
   "execution_count": 62,
   "id": "b777334e",
   "metadata": {},
   "outputs": [],
   "source": [
    "import re\n",
    "Q = []\n",
    "for i in file.read().split(\" \"):\n",
    "    i = i.upper()\n",
    "    i = re.sub(\"[^A-Z]\",\"\",i)\n",
    "    Q.append(i)\n",
    "\n"
   ]
  },
  {
   "cell_type": "code",
   "execution_count": 63,
   "id": "afa9ae39",
   "metadata": {},
   "outputs": [
    {
     "data": {
      "text/plain": [
       "['PROJECT',\n",
       " 'GUTENBERGS',\n",
       " 'THE',\n",
       " 'ADVENTURES',\n",
       " 'OF',\n",
       " 'SHERLOCK',\n",
       " 'HOLMES',\n",
       " 'BY',\n",
       " 'ARTHUR',\n",
       " 'CONAN']"
      ]
     },
     "execution_count": 63,
     "metadata": {},
     "output_type": "execute_result"
    }
   ],
   "source": [
    "Q[0:10]"
   ]
  },
  {
   "cell_type": "code",
   "execution_count": 64,
   "id": "89dc1aa5",
   "metadata": {},
   "outputs": [],
   "source": [
    "import numpy as np\n",
    "unique_words = np.unique(Q)"
   ]
  },
  {
   "cell_type": "code",
   "execution_count": 65,
   "id": "c04b84f7",
   "metadata": {},
   "outputs": [],
   "source": [
    "inp = []\n",
    "pred = []\n",
    "for i in range(3,8062,1):\n",
    "    fw = Q[i-3]\n",
    "    sw = Q[i-2]\n",
    "    tw = Q[i-1]\n",
    "    pw = Q[i]\n",
    "    inp.append(str(fw)+\" \"+str(sw)+\" \"+str(tw))\n",
    "    pred.append(pw)"
   ]
  },
  {
   "cell_type": "code",
   "execution_count": 66,
   "id": "95afa7a1",
   "metadata": {},
   "outputs": [],
   "source": [
    "import pandas as pd\n",
    "Q = pd.DataFrame([inp,pred]).T\n",
    "Q.columns = [\"Input\",\"Predicted\"]"
   ]
  },
  {
   "cell_type": "code",
   "execution_count": 67,
   "id": "e274885f",
   "metadata": {},
   "outputs": [
    {
     "data": {
      "text/plain": [
       "array(['', 'A', 'ABANDONED', 'ABHORRENT', 'ABLE', 'ABOUT', 'ABOVE'],\n",
       "      dtype='<U22')"
      ]
     },
     "execution_count": 67,
     "metadata": {},
     "output_type": "execute_result"
    }
   ],
   "source": [
    "unique_words[0:7]"
   ]
  },
  {
   "cell_type": "code",
   "execution_count": 68,
   "id": "966b3b39",
   "metadata": {},
   "outputs": [
    {
     "name": "stdout",
     "output_type": "stream",
     "text": [
      "(8059, 2)\n",
      "2464\n"
     ]
    }
   ],
   "source": [
    "print(Q.shape)\n",
    "print(len(unique_words))"
   ]
  },
  {
   "cell_type": "code",
   "execution_count": 69,
   "id": "3dac3a31",
   "metadata": {},
   "outputs": [],
   "source": [
    "lines = 8059\n",
    "un_words = 2464\n",
    "num_words_inp = 3"
   ]
  },
  {
   "cell_type": "code",
   "execution_count": 70,
   "id": "19b5bef2",
   "metadata": {},
   "outputs": [],
   "source": [
    "import numpy as np\n",
    "X = np.zeros((lines,un_words,num_words_inp),dtype=bool)\n",
    "Y = np.zeros((8059,2464),dtype=bool)\n"
   ]
  },
  {
   "cell_type": "code",
   "execution_count": 71,
   "id": "7ea94136",
   "metadata": {},
   "outputs": [],
   "source": [
    "lines_enum = enumerate(Q.Input)"
   ]
  },
  {
   "cell_type": "code",
   "execution_count": 72,
   "id": "96e9633e",
   "metadata": {},
   "outputs": [],
   "source": [
    "wordsinaline = []\n",
    "for i in Q.Input:\n",
    "    wordsinaline.append((enumerate(i.split(\" \"))))"
   ]
  },
  {
   "cell_type": "code",
   "execution_count": 73,
   "id": "90734ec3",
   "metadata": {},
   "outputs": [],
   "source": [
    "unique_words_index = enumerate(unique_words)\n",
    "UW = {}\n",
    "for i,j in unique_words_index:\n",
    "    UW[j]=i"
   ]
  },
  {
   "cell_type": "code",
   "execution_count": 74,
   "id": "015c9747",
   "metadata": {},
   "outputs": [
    {
     "data": {
      "text/plain": [
       "(8059, 2464, 3)"
      ]
     },
     "execution_count": 74,
     "metadata": {},
     "output_type": "execute_result"
    }
   ],
   "source": [
    "X.shape"
   ]
  },
  {
   "cell_type": "code",
   "execution_count": 77,
   "id": "eaee56f7",
   "metadata": {},
   "outputs": [],
   "source": [
    "for line_index,sentences in list(lines_enum):\n",
    "    for word_index,word in enumerate(sentences):\n",
    "        X[line_index,UW[word],word_index]=1"
   ]
  },
  {
   "cell_type": "code",
   "execution_count": 78,
   "id": "7bec46e5",
   "metadata": {},
   "outputs": [],
   "source": [
    "Y = np.zeros((8059,2464),dtype=bool)\n",
    "for line_index,predicted_word in enumerate(Q.Predicted):\n",
    "    Y[line_index,UW[predicted_word]]=1"
   ]
  },
  {
   "cell_type": "code",
   "execution_count": 79,
   "id": "0792bb26",
   "metadata": {},
   "outputs": [
    {
     "name": "stdout",
     "output_type": "stream",
     "text": [
      "60/60 [==============================] - 1591s 27s/step - loss: 7.0401 - accuracy: 0.0483 - val_loss: 6.4872 - val_accuracy: 0.0447\n"
     ]
    }
   ],
   "source": [
    "from keras.layers import LSTM,RNN\n",
    "from keras.models import Sequential\n",
    "from keras.activations import softmax\n",
    "from keras.layers.core import Dense, Activation\n",
    "\n",
    "nn = Sequential()\n",
    "nn.add(LSTM(128, input_shape=(2464,3)))\n",
    "nn.add(Dense(len(unique_words)))\n",
    "nn.add(Activation('softmax'))\n",
    "nn.compile(loss='categorical_crossentropy', optimizer=\"adam\", metrics=['accuracy'])\n",
    "history = nn.fit(X, Y, validation_split=0.05, batch_size=128, epochs=1)"
   ]
  },
  {
   "cell_type": "code",
   "execution_count": 80,
   "id": "6a14914f",
   "metadata": {},
   "outputs": [],
   "source": [
    "def XFORMAT(phrase):\n",
    "    X = np.zeros((1,un_words,num_words_inp),dtype=bool)\n",
    "    xsplit = phrase.split(\" \")\n",
    "    for word_index,word in enumerate(xsplit):\n",
    "        X[0,UW[word],word_index]=1\n",
    "    return X"
   ]
  },
  {
   "cell_type": "code",
   "execution_count": 81,
   "id": "75b0748b",
   "metadata": {},
   "outputs": [
    {
     "name": "stdout",
     "output_type": "stream",
     "text": [
      "Enter phrase: seldom heard him\n"
     ]
    }
   ],
   "source": [
    "q = input(\"Enter phrase: \").upper()\n",
    "if(len(q.split(\" \")) != 3):\n",
    "    print(\"Enter 3 words exactly\")\n",
    "else:\n",
    "    x = XFORMAT(q)"
   ]
  },
  {
   "cell_type": "code",
   "execution_count": 82,
   "id": "20fdf408",
   "metadata": {},
   "outputs": [],
   "source": [
    "pred = nn.predict(x)"
   ]
  },
  {
   "cell_type": "code",
   "execution_count": 83,
   "id": "5183aa20",
   "metadata": {},
   "outputs": [],
   "source": [
    "W = pd.DataFrame(pred).T\n",
    "W.columns=[\"val\"]"
   ]
  },
  {
   "cell_type": "code",
   "execution_count": 84,
   "id": "27001122",
   "metadata": {},
   "outputs": [],
   "source": [
    "pred_val_position = W.sort_values(by=[\"val\"],ascending=False).head(1).index.item()\n",
    "predicted_word = list(unique_words)[pred_val_position]"
   ]
  },
  {
   "cell_type": "code",
   "execution_count": 85,
   "id": "774739b1",
   "metadata": {},
   "outputs": [
    {
     "data": {
      "text/plain": [
       "'THE'"
      ]
     },
     "execution_count": 85,
     "metadata": {},
     "output_type": "execute_result"
    }
   ],
   "source": [
    "predicted_word"
   ]
  },
  {
   "cell_type": "code",
   "execution_count": 86,
   "id": "cf08deac",
   "metadata": {},
   "outputs": [
    {
     "data": {
      "text/plain": [
       "2086"
      ]
     },
     "execution_count": 86,
     "metadata": {},
     "output_type": "execute_result"
    }
   ],
   "source": [
    "pred_val_position"
   ]
  },
  {
   "cell_type": "code",
   "execution_count": null,
   "id": "74c6c39b",
   "metadata": {},
   "outputs": [],
   "source": []
  }
 ],
 "metadata": {
  "kernelspec": {
   "display_name": "Python 3 (ipykernel)",
   "language": "python",
   "name": "python3"
  },
  "language_info": {
   "codemirror_mode": {
    "name": "ipython",
    "version": 3
   },
   "file_extension": ".py",
   "mimetype": "text/x-python",
   "name": "python",
   "nbconvert_exporter": "python",
   "pygments_lexer": "ipython3",
   "version": "3.8.11"
  }
 },
 "nbformat": 4,
 "nbformat_minor": 5
}
